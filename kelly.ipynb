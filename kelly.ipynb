{
 "cells": [
  {
   "cell_type": "code",
   "execution_count": 1,
   "metadata": {},
   "outputs": [
    {
     "data": {
      "text/plain": [
       "f_kelly (generic function with 1 method)"
      ]
     },
     "metadata": {},
     "output_type": "display_data"
    }
   ],
   "source": [
    "using Plots\n",
    "\n",
    "n,p = 1000, 0.51\n",
    "a,b = 1,1\n",
    "f = 0.1\n",
    "\n",
    "function gain(f,n=n, p=p, a=1,b=1)\n",
    "    gains = cumsum(rand(n).<p)\n",
    "    trials = 1:n\n",
    "    fac = ((1 + f*a) / (1 - f*b)).*ones(n) \n",
    "    ret = fac.^gains\n",
    "    return ret .* ( (1 - f*b).^trials )\n",
    "end\n",
    "\n",
    "\n",
    "R(f, p, a, b) = (1 + f*a)^p * (1 - f*b)^(1-p)\n",
    "f_kelly(p,a,b) = p/b - (1-p)/a"
   ]
  },
  {
   "cell_type": "code",
   "execution_count": 2,
   "metadata": {},
   "outputs": [],
   "source": [
    "n,N = 100, 10000\n",
    "p,a,b = 0.7,1,1\n",
    "f_list = 0.02:0.02:0.98\n",
    "\n",
    "function samples(f,p,a,b)\n",
    "    A = zeros(n,N)\n",
    "    for i in 1:N\n",
    "        A[:,i] = gain(f,n,p,a,b)\n",
    "    end\n",
    "    return A\n",
    "end\n",
    "\n",
    "D = Dict()\n",
    "for f in f_list\n",
    "    D[f] = samples(f,p,a,b)\n",
    "end"
   ]
  },
  {
   "cell_type": "code",
   "execution_count": 3,
   "metadata": {},
   "outputs": [],
   "source": [
    "plot(yscale=:log)\n",
    "for f in f_list\n",
    "    plot!(D[f][:,1:10], color=:red, alpha=0.2, seriestype=:steppost)\n",
    "    plot!(sum(D[f],dims=2)/N, color=:black, seriestype=:steppost)\n",
    "end\n",
    "plot!(legend=:none)\n",
    "ylims!((1e-30,1e20))"
   ]
  },
  {
   "cell_type": "code",
   "execution_count": null,
   "metadata": {},
   "outputs": [],
   "source": [
    "function mean_floored(v)\n",
    "    m = sum(v)./size(v)[1]\n",
    "    ( isnan(m) || m<=1e-30 ) ? 1e-30 : m\n",
    "end\n",
    "M = [mean_floored(D[f][end,:]) for f in f_list];\n",
    "using Statistics\n",
    "σ = [std(D[f][end,:]) for f in f_list];"
   ]
  },
  {
   "cell_type": "code",
   "execution_count": 212,
   "metadata": {},
   "outputs": [
    {
     "ename": "MethodError",
     "evalue": "MethodError: objects of type Int64 are not callable\nMaybe you forgot to use an operator such as *, ^, %, / etc. ?",
     "output_type": "error",
     "traceback": [
      "MethodError: objects of type Int64 are not callable\n",
      "Maybe you forgot to use an operator such as *, ^, %, / etc. ?\n",
      "\n",
      "Stacktrace:\n",
      " [1] mapreduce_first(f::Int64, op::Function, x::Int64)\n",
      "   @ Base ./reduce.jl:394\n",
      " [2] mapreduce(f::Int64, op::Function, a::Int64)\n",
      "   @ Base ./reduce.jl:421\n",
      " [3] maximum(f::Int64, a::Int64; kw::Base.Pairs{Symbol, Union{}, Tuple{}, NamedTuple{(), Tuple{}}})\n",
      "   @ Base ./reduce.jl:678\n",
      " [4] maximum(f::Int64, a::Int64)\n",
      "   @ Base ./reduce.jl:678\n",
      " [5] top-level scope\n",
      "   @ ~/Documents/simulations/kelly.ipynb:6"
     ]
    }
   ],
   "source": [
    "function g(f,p,a,b,n)\n",
    "    gamma = (1 + f*a) / (1 - f*b)\n",
    "    (1 - f*b)^n * gamma^(n*p) + 2\n",
    "end\n",
    "\n",
    "N_plot = maximum(N,1000)\n",
    "\n",
    "vline([f_kelly(p,a,b)], color=:gray, lw=4, label=\"kelly's optimum\")\n",
    "for f in f_list\n",
    "    scatter!(f.*ones(N_plot), D[f][end,1:N_plot], color=:lightsalmon, alpha=0.2, ms=2, label=:none, markerstrokewidth=0)\n",
    "end\n",
    "plot!(yscale=:log)\n",
    "plot!(ylims=(1e-20,1e20))\n",
    "e = p*a - (1-p)*b\n",
    "plot!(f_list, (1 .+ e.*f_list).^n , lw=2,markershape=:circle, markersize=4, markerstrokewidth=0, label=\"dummy gain\")\n",
    "plot!(f_list, R.(f_list, p,a,b).^n, lw=2, markershape=:circle, markersize=4, markerstrokewidth=0, label=\"kelly gain\")\n",
    "\n",
    "scatter!(f_list, M, color=:lightsalmon, label=\"mean gain over 100 runs\")\n",
    "#plot!(f_list, M .+ σ, fillrange = M.-σ, color=:gray, alpha=0.2)\n",
    "\n",
    "\n"
   ]
  }
 ],
 "metadata": {
  "kernelspec": {
   "display_name": "Julia 1.7.1",
   "language": "julia",
   "name": "julia-1.7"
  },
  "language_info": {
   "file_extension": ".jl",
   "mimetype": "application/julia",
   "name": "julia",
   "version": "1.7.1"
  },
  "orig_nbformat": 4
 },
 "nbformat": 4,
 "nbformat_minor": 2
}
